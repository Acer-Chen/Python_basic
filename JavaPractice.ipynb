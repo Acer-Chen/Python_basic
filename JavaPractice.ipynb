{
 "cells": [
  {
   "cell_type": "markdown",
   "metadata": {},
   "source": [
    "## Selection"
   ]
  },
  {
   "cell_type": "markdown",
   "metadata": {},
   "source": [
    "#### Season"
   ]
  },
  {
   "cell_type": "code",
   "execution_count": 2,
   "metadata": {},
   "outputs": [
    {
     "name": "stdout",
     "output_type": "stream",
     "text": [
      "5月是夏季\n"
     ]
    }
   ],
   "source": [
    "month = int(input(\"請輸入月份：\"))\n",
    "if month <= 3:\n",
    "    print(f\"{month}月是春季\")\n",
    "elif month <=6:\n",
    "    print(f\"{month}月是夏季\")\n",
    "elif month <=9:\n",
    "    print(f\"{month}月是秋季\")\n",
    "elif month <=12:\n",
    "    print(f\"{month}月是冬季\")\n",
    "else :\n",
    "    print(f\"請輸入正確月份(1-12月)\")"
   ]
  },
  {
   "cell_type": "markdown",
   "metadata": {},
   "source": [
    "#### Salary\n"
   ]
  },
  {
   "cell_type": "code",
   "execution_count": 4,
   "metadata": {},
   "outputs": [
    {
     "name": "stdout",
     "output_type": "stream",
     "text": [
      "您本月的薪水為17250.0元\n"
     ]
    }
   ],
   "source": [
    "hourlyrate = 150\n",
    "workhour = int(input(\"請輸入工作時數：\"))\n",
    "salary = 0\n",
    "if workhour <=60:\n",
    "    salary = workhour * hourlyrate\n",
    "elif workhour <=80:\n",
    "    salary = 60 * hourlyrate + (workhour-60) * hourlyrate * 1.25\n",
    "else :\n",
    "    salary = 60 * hourlyrate + 20 * hourlyrate * 1.25 + (workhour-80) * hourlyrate * 1.5\n",
    "print(f\"您本月的薪水為{salary}元\")"
   ]
  },
  {
   "cell_type": "markdown",
   "metadata": {},
   "source": [
    "#### Electricity"
   ]
  },
  {
   "cell_type": "code",
   "execution_count": 6,
   "metadata": {},
   "outputs": [
    {
     "name": "stdout",
     "output_type": "stream",
     "text": [
      "您 6 月總使用的電費度數為 1500 度，總計電費為 5548 元\n"
     ]
    }
   ],
   "source": [
    "electricity = input(\"請輸入何種用電(營業用/非營業用)：\")\n",
    "month = int(input(\"請輸入計算月份：\"))\n",
    "count = int(input(\"請輸入該月用電度數：\"))\n",
    "total_electricity = 0\n",
    "business_summer_330 = 2.53\n",
    "business_summer_700 = 3.55\n",
    "business_summer_1500 = 4.25\n",
    "business_summer_over = 6.43\n",
    "business_unsummer_330 = 2.12\n",
    "business_unsummer_700 = 2.91\n",
    "business_unsummer_1500 = 3.44\n",
    "business_unsummer_over = 5.05\n",
    "unbusiness_summer_120 = 1.63\n",
    "unbusiness_summer_330 = 2.38\n",
    "unbusiness_summer_500 = 3.52\n",
    "unbusiness_summer_700 = 4.80\n",
    "unbusiness_summer_1000 = 5.66\n",
    "unbusiness_summer_over = 6.41\n",
    "unbusiness_unsummer_120 = 1.63\n",
    "unbusiness_unsummer_330 = 2.10\n",
    "unbusiness_unsummer_500 = 2.89\n",
    "unbusiness_unsummer_700 = 3.94\n",
    "unbusiness_unsummer_1000 = 4.60\n",
    "unbusiness_unsummer_over = 5.03\n",
    "if(electricity == \"營業用\"):\n",
    "    if (month <=9 and month >=6):\n",
    "        if (count <= 330):\n",
    "            total_electricity = count * business_summer_330\n",
    "        elif (count <= 700):\n",
    "            total_electricity = 330 * business_summer_330 + (count-330) * business_summer_700\n",
    "        elif (count <= 1500):\n",
    "            total_electricity = 330 * business_summer_330 + (700-330) * business_summer_700 + (count-700) * business_summer_1500\n",
    "        else:\n",
    "            total_electricity = 330 * business_summer_330 + (700-330) * business_summer_700 + (1500-700) * business_summer_1500 + (count-1500) * business_summer_over\n",
    "    else:\n",
    "        if (count <= 330):\n",
    "            total_electricity = count * business_unsummer_330\n",
    "        elif (count <= 700):\n",
    "            total_electricity = 330 * business_unsummer_330 + (count-330) * business_unsummer_700\n",
    "        elif (count <= 1500):\n",
    "            total_electricity = 330 * business_unsummer_330 + (700-330) * business_unsummer_700 + (count-700) * business_unsummer_1500\n",
    "        else:\n",
    "            total_electricity = 330 * business_unsummer_330 + (700-330) * business_unsummer_700 + (1500-700) * business_unsummer_1500 + (count-1500) * business_unsummer_over\n",
    "\n",
    "else:\n",
    "    if (month <=9 and month >=6):\n",
    "        if (count <= 120):\n",
    "            total_electricity = count * unbusiness_summer_120\n",
    "        elif (count <= 330):\n",
    "            total_electricity = 120 * unbusiness_summer_120 + (count-120) * unbusiness_summer_330\n",
    "        elif (count <= 500):\n",
    "            total_electricity = 120 * unbusiness_summer_120 + (330-120) * unbusiness_summer_330 + (count - 330) * unbusiness_summer_500\n",
    "        elif (count <= 700):\n",
    "            total_electricity =  120 * unbusiness_summer_120 + (330-120) * unbusiness_summer_330 + (500 - 330) * unbusiness_summer_500 + (count - 500) * unbusiness_summer_700\n",
    "        elif (count <= 1000):\n",
    "            total_electricity =  120 * unbusiness_summer_120 + (330-120) * unbusiness_summer_330 + (500 - 330) * unbusiness_summer_500 + (700 - 500) * unbusiness_summer_700 + (count - 700) * unbusiness_summer_1000\n",
    "        else:\n",
    "            total_electricity =  120 * unbusiness_summer_120 + (330-120) * unbusiness_summer_330 + (500 - 330) * unbusiness_summer_500 + (700 - 500) * unbusiness_summer_700 + (1000 - 700) * unbusiness_summer_1000 + (count - 1000) * unbusiness_summer_over\n",
    "    else:\n",
    "        if (count <= 120):\n",
    "            total_electricity = count * unbusiness_unsummer_120\n",
    "        elif (count <= 330):\n",
    "            total_electricity = 120 * unbusiness_unsummer_120 + (count-120) * unbusiness_unsummer_330\n",
    "        elif (count <= 500):\n",
    "            total_electricity = 120 * unbusiness_unsummer_120 + (330-120) * unbusiness_unsummer_330 + (count - 330) * unbusiness_unsummer_500\n",
    "        elif (count <= 700):\n",
    "            total_electricity =  120 * unbusiness_unsummer_120 + (330-120) * unbusiness_unsummer_330 + (500 - 330) * unbusiness_unsummer_500 + (count - 500) * unbusiness_unsummer_700\n",
    "        elif (count <= 1000):\n",
    "            total_electricity =  120 * unbusiness_unsummer_120 + (330-120) * unbusiness_unsummer_330 + (500 - 330) * unbusiness_unsummer_500 + (700 - 500) * unbusiness_unsummer_700 + (count - 700) * unbusiness_unsummer_1000\n",
    "        else:\n",
    "            total_electricity =  120 * unbusiness_unsummer_120 + (330-120) * unbusiness_unsummer_330 + (500 - 330) * unbusiness_unsummer_500 + (700 - 500) * unbusiness_unsummer_700 + (1000 - 700) * unbusiness_unsummer_1000 + (count - 1000) * unbusiness_unsummer_over\n",
    "\n",
    "print(f\"您 {month} 月總使用的電費度數為 {count} 度，總計電費為 {round(total_electricity)} 元\")"
   ]
  },
  {
   "cell_type": "markdown",
   "metadata": {},
   "source": [
    "#### LearYear"
   ]
  },
  {
   "cell_type": "code",
   "execution_count": 9,
   "metadata": {},
   "outputs": [
    {
     "name": "stdout",
     "output_type": "stream",
     "text": [
      "您輸入的 2015 年非閏年。\n"
     ]
    }
   ],
   "source": [
    "year = int (input(\"請輸入一個西元年：\"))\n",
    "if (year % 4 == 0):\n",
    "    if (year % 100 == 0):\n",
    "        if(year % 400 == 0):\n",
    "            print(f\"您輸入的 {year} 年為閏年。\")\n",
    "        else:\n",
    "            print(f\"您輸入的 {year} 年非閏年。\")\n",
    "    else:\n",
    "        print(f\"您輸入的 {year} 年為閏年。\")\n",
    "else:\n",
    "    print(f\"您輸入的 {year} 年非閏年。\")"
   ]
  },
  {
   "cell_type": "markdown",
   "metadata": {},
   "source": [
    "#### Refund"
   ]
  },
  {
   "cell_type": "code",
   "execution_count": 13,
   "metadata": {},
   "outputs": [
    {
     "name": "stdout",
     "output_type": "stream",
     "text": [
      "您買了 132 元的商品，並付了 1000 元，應找回，1 張500元，3 張100元，1 個50元硬幣，1 個10元硬幣，1 個5元硬幣，3.0 個1元硬幣。\n"
     ]
    }
   ],
   "source": [
    "price = int (input(\"請輸入應付金額：\"))\n",
    "pay = int (input(\"請輸入實付金額：\"))\n",
    "result = \"\"\n",
    "count = pay - price\n",
    "if (count < 0):\n",
    "    result += \"金額不足\"\n",
    "elif (count == 0):\n",
    "    result += \"不必找錢\"\n",
    "else:\n",
    "    result = f\"您買了 {price} 元的商品，並付了 {pay} 元，應找回\"\n",
    "    if(count > 1000):\n",
    "        count_1000 = count // 1000\n",
    "        result += f\"{count_1000} 張1000元\"\n",
    "        count %= 1000\n",
    "    if(count > 500):\n",
    "        count_500 = count // 500\n",
    "        result += f\"，{count_500} 張500元\"\n",
    "        count %= 500\n",
    "    if(count > 100):\n",
    "        count_100 = count // 100\n",
    "        result += f\"，{count_100} 張100元\"\n",
    "        count %= 100\n",
    "    if(count > 50):\n",
    "        count_50 = count // 50\n",
    "        result += f\"，{count_50} 個50元硬幣\"\n",
    "        count %= 50\n",
    "    if(count > 10):\n",
    "        count_10 = count // 10\n",
    "        result += f\"，{count_10} 個10元硬幣\"\n",
    "        count %= 10\n",
    "    if(count > 5):\n",
    "        count_5 = count // 5\n",
    "        result += f\"，{count_5} 個5元硬幣\"\n",
    "        count %= 5\n",
    "    if(count > 1):\n",
    "        count_1 =int (count / 1)\n",
    "        result += f\"，{count_1} 個1元硬幣\"\n",
    "result += \"。\"\n",
    "print (result)"
   ]
  },
  {
   "cell_type": "markdown",
   "metadata": {},
   "source": [
    "#### Equation"
   ]
  },
  {
   "cell_type": "code",
   "execution_count": null,
   "metadata": {},
   "outputs": [],
   "source": [
    "a = int (input(\"請輸入A的值：\"))\n",
    "b = int (input(\"請輸入B的值：\"))\n",
    "c = int (input(\"請輸入C的值：\"))\n",
    "r =int( b**2 - 4*a*c)\n",
    "result = \"\"\n",
    "if( r < 0) :\n",
    "    result += \"沒有實根\"\n",
    "elif (r == 0) :\n",
    "    x = (-b) / (2*a)\n",
    "    result += f\"有兩個相等的實根，其值為{x}\"\n",
    "else :\n",
    "    x1 = ((-b) + r ** 0.5) / (2*a)\n",
    "    x2 = ((-b) - r ** 0.5) / (2*a)\n",
    "    result += f\"有兩個不相等的實根，其值為{x1}及{x2}\"\n",
    "print(result)"
   ]
  },
  {
   "cell_type": "markdown",
   "metadata": {},
   "source": [
    "## Iteration"
   ]
  },
  {
   "cell_type": "markdown",
   "metadata": {},
   "source": [
    "#### Expression"
   ]
  },
  {
   "cell_type": "code",
   "execution_count": 19,
   "metadata": {},
   "outputs": [
    {
     "name": "stdout",
     "output_type": "stream",
     "text": [
      "-1275\n"
     ]
    }
   ],
   "source": [
    "result = 0\n",
    "for i in range (1,51):\n",
    "    if(i % 2 == 1):\n",
    "        result += i * i\n",
    "    else:\n",
    "        result -= i * i\n",
    "print(result)"
   ]
  },
  {
   "cell_type": "markdown",
   "metadata": {},
   "source": [
    "#### Factor"
   ]
  },
  {
   "cell_type": "code",
   "execution_count": 24,
   "metadata": {},
   "outputs": [
    {
     "name": "stdout",
     "output_type": "stream",
     "text": [
      "36的因數為 [1, 2, 3, 4, 6, 9, 12, 18, 36]\n"
     ]
    }
   ],
   "source": [
    "number = int (input(\"請輸入一個正整數：\"))\n",
    "result = []\n",
    "for i in range (1,number+1):\n",
    "    if (number % i == 0):\n",
    "        result.append(i)\n",
    "print (f\"{number}的因數為 {result}\")"
   ]
  },
  {
   "cell_type": "markdown",
   "metadata": {},
   "source": [
    "#### PerfectNumber"
   ]
  },
  {
   "cell_type": "code",
   "execution_count": 23,
   "metadata": {},
   "outputs": [
    {
     "name": "stdout",
     "output_type": "stream",
     "text": [
      "100以內的完美數有 [6, 28]\n"
     ]
    }
   ],
   "source": [
    "PerfectNumber = []\n",
    "for i in range (1,101):\n",
    "    sum = 0\n",
    "    for j in range (1,i):\n",
    "        if ( i % j == 0 ):\n",
    "            sum += j\n",
    "    if (sum == i):\n",
    "        PerfectNumber.append(i) \n",
    "print (f\"100以內的完美數有 {PerfectNumber}\")\n"
   ]
  },
  {
   "cell_type": "markdown",
   "metadata": {},
   "source": [
    "#### Amstrong"
   ]
  },
  {
   "cell_type": "code",
   "execution_count": 29,
   "metadata": {},
   "outputs": [
    {
     "name": "stdout",
     "output_type": "stream",
     "text": [
      "Amstrong數有[1, 153, 370, 371, 407]\n"
     ]
    }
   ],
   "source": [
    "Amstrong = []\n",
    "for i in range (1,1000):\n",
    "    sum = 0\n",
    "    for j in str(i):\n",
    "        sum += int(j)**3\n",
    "    if (sum == i):\n",
    "        Amstrong.append(i) \n",
    "print(f\"Amstrong數有{Amstrong}\")"
   ]
  },
  {
   "cell_type": "markdown",
   "metadata": {},
   "source": [
    "#### Prime"
   ]
  },
  {
   "cell_type": "code",
   "execution_count": 6,
   "metadata": {},
   "outputs": [
    {
     "name": "stdout",
     "output_type": "stream",
     "text": [
      "36的質數有[2, 3, 5, 7, 11, 13, 17, 19, 23, 29, 31]\n"
     ]
    }
   ],
   "source": [
    "prime = int(input(\"請輸入一個正整數：\"))\n",
    "result = []\n",
    "for i in range (2, prime + 1):\n",
    "    is_prime=True\n",
    "    for j in range (2, int(i**0.5) + 1):\n",
    "        if ( i % j == 0):\n",
    "            is_prime = False\n",
    "            break\n",
    "    if(is_prime == True):\n",
    "        result.append(i)\n",
    "\n",
    "print(f\"{prime}的質數有{result}\")"
   ]
  },
  {
   "cell_type": "markdown",
   "metadata": {},
   "source": [
    "#### Rope"
   ]
  },
  {
   "cell_type": "code",
   "execution_count": 5,
   "metadata": {},
   "outputs": [
    {
     "name": "stdout",
     "output_type": "stream",
     "text": [
      "10\n"
     ]
    }
   ],
   "source": [
    "rope = 3000\n",
    "day = 0\n",
    "while (rope >= 5):\n",
    "    rope /= 2\n",
    "    day += 1\n",
    "print(day)"
   ]
  },
  {
   "cell_type": "markdown",
   "metadata": {},
   "source": [
    "#### Rabbit"
   ]
  },
  {
   "cell_type": "code",
   "execution_count": 7,
   "metadata": {},
   "outputs": [
    {
     "name": "stdout",
     "output_type": "stream",
     "text": [
      "58\n"
     ]
    }
   ],
   "source": [
    "rabbit = 0\n",
    "while True:\n",
    "    rabbit += 1\n",
    "    if (rabbit % 3 == 1 and rabbit % 5 == 3 and rabbit % 7 == 2):\n",
    "        break\n",
    "print(rabbit)\n"
   ]
  },
  {
   "cell_type": "markdown",
   "metadata": {},
   "source": [
    "#### Password"
   ]
  },
  {
   "cell_type": "code",
   "execution_count": null,
   "metadata": {},
   "outputs": [],
   "source": []
  }
 ],
 "metadata": {
  "kernelspec": {
   "display_name": "Python 3",
   "language": "python",
   "name": "python3"
  },
  "language_info": {
   "codemirror_mode": {
    "name": "ipython",
    "version": 3
   },
   "file_extension": ".py",
   "mimetype": "text/x-python",
   "name": "python",
   "nbconvert_exporter": "python",
   "pygments_lexer": "ipython3",
   "version": "3.13.0"
  }
 },
 "nbformat": 4,
 "nbformat_minor": 2
}
